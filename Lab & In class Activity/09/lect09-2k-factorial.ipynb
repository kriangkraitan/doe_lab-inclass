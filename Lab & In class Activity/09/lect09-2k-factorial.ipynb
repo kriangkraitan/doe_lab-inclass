{
 "cells": [
  {
   "cell_type": "markdown",
   "metadata": {},
   "source": [
    "# $2^k$ Factorial Design"
   ]
  },
  {
   "cell_type": "markdown",
   "metadata": {
    "toc": true
   },
   "source": [
    "<h1>Table of Contents<span class=\"tocSkip\"></span></h1>\n",
    "<div class=\"toc\"><ul class=\"toc-item\"><li><span><a href=\"#Contrasts-and-Effect-Estimates\" data-toc-modified-id=\"Contrasts-and-Effect-Estimates-1\"><span class=\"toc-item-num\">1&nbsp;&nbsp;</span>Contrasts and Effect Estimates</a></span></li><li><span><a href=\"#Your-Turn----Activity-I:--Bacterial-Growth\" data-toc-modified-id=\"Your-Turn----Activity-I:--Bacterial-Growth-2\"><span class=\"toc-item-num\">2&nbsp;&nbsp;</span>Your Turn -- Activity I:  Bacterial Growth</a></span></li><li><span><a href=\"#Estimating-Regression-Coefficients-in-Two-level-Factorial\" data-toc-modified-id=\"Estimating-Regression-Coefficients-in-Two-level-Factorial-3\"><span class=\"toc-item-num\">3&nbsp;&nbsp;</span>Estimating Regression Coefficients in Two-level Factorial</a></span></li><li><span><a href=\"#Fitting-regression-model-to-Process-yield-example\" data-toc-modified-id=\"Fitting-regression-model-to-Process-yield-example-4\"><span class=\"toc-item-num\">4&nbsp;&nbsp;</span>Fitting regression model to Process yield example</a></span></li><li><span><a href=\"#Visual-Assessment-in-Single-Replicate-Data\" data-toc-modified-id=\"Visual-Assessment-in-Single-Replicate-Data-5\"><span class=\"toc-item-num\">5&nbsp;&nbsp;</span>Visual Assessment in Single Replicate Data</a></span><ul class=\"toc-item\"><li><span><a href=\"#Normal-probability-plot\" data-toc-modified-id=\"Normal-probability-plot-5.1\"><span class=\"toc-item-num\">5.1&nbsp;&nbsp;</span>Normal probability plot</a></span></li><li><span><a href=\"#Normal-probability-plot-in-Minitab-style\" data-toc-modified-id=\"Normal-probability-plot-in-Minitab-style-5.2\"><span class=\"toc-item-num\">5.2&nbsp;&nbsp;</span>Normal probability plot in Minitab style</a></span></li></ul></li></ul></div>"
   ]
  },
  {
   "cell_type": "code",
   "execution_count": null,
   "metadata": {
    "scrolled": true
   },
   "outputs": [],
   "source": [
    "print('\\nEnabling interactive shell outputs ...')\n",
    "print('   Use command pass; to disable cell text outputs')\n",
    "from IPython.core.interactiveshell import InteractiveShell\n",
    "InteractiveShell.ast_node_interactivity = \"all\"\n",
    "\n",
    "import warnings\n",
    "warnings.filterwarnings('ignore') \n",
    "warnings.simplefilter(action=\"ignore\",category=UserWarning)\n",
    "warnings.simplefilter(action=\"ignore\",category=FutureWarning)\n",
    "\n",
    "import pandas as pd \n",
    "import numpy as np\n",
    "import matplotlib.pyplot as plt\n",
    "import seaborn as sns\n",
    "from scipy import stats\n",
    "import statsmodels.api as sm\n",
    "\n",
    "\n",
    "\n",
    "%matplotlib inline\n",
    "%config InlineBackend.figure_formats = {'png', 'retina'}"
   ]
  },
  {
   "cell_type": "markdown",
   "metadata": {},
   "source": [
    "## Contrasts and Effect Estimates"
   ]
  },
  {
   "cell_type": "markdown",
   "metadata": {},
   "source": [
    "**Create the factorial effect matrix**"
   ]
  },
  {
   "cell_type": "code",
   "execution_count": null,
   "metadata": {},
   "outputs": [],
   "source": [
    "Xmain=np.array([[+1,-1,-1],\n",
    "                [+1,+1,-1],\n",
    "                [+1,-1,+1],\n",
    "                [+1,+1,+1]])\n",
    "\n",
    "\n",
    "factorial_eff = pd.DataFrame(Xmain, columns=['Intercept','A','B'])\n",
    "\n",
    "# Add interaction effects\n",
    "factorial_eff['AB'] = factorial_eff['A']*factorial_eff['B']\n",
    "\n",
    "# Observations from three replicates\n",
    "y = np.array([[28,25,27],\n",
    "             [36,32,32],\n",
    "             [18,19,23],\n",
    "             [31,30,29]])\n",
    "\n",
    "# Get a vector of total response\n",
    "total_y = np.c_[y.sum(axis=1)]\n",
    "factorial_eff, total_y"
   ]
  },
  {
   "cell_type": "markdown",
   "metadata": {},
   "source": [
    "**Compute contrasts, SS, and effect estimates**"
   ]
  },
  {
   "cell_type": "code",
   "execution_count": null,
   "metadata": {},
   "outputs": [],
   "source": [
    "k, n = np.log2(len(factorial_eff)), y.shape[1]\n",
    "\n",
    "contrast_eff = factorial_eff.iloc[:,1:].mul(total_y).sum()\n",
    "print('Contrast effects\\n', contrast_eff.to_string(), sep='')\n",
    "\n",
    "effects = (contrast_eff)/((2**(k-1))*n)\n",
    "print('\\nEffect estimates\\n', effects.to_string(), sep='')\n",
    "\n",
    "ss_eff = (contrast_eff**2)/((2**k)*n)\n",
    "print('\\nSS effects\\n', ss_eff.to_string(), sep='')"
   ]
  },
  {
   "cell_type": "markdown",
   "metadata": {},
   "source": [
    "**SSE and MSE**"
   ]
  },
  {
   "cell_type": "code",
   "execution_count": null,
   "metadata": {},
   "outputs": [],
   "source": [
    "SST = (sum(sum(y**2)) - sum(total_y)**2/y.size)[0]\n",
    "SSE = SST - sum(ss_eff)\n",
    "MSE = SSE/(y.size - len(ss_eff) - 1)\n",
    "print(\"SSE = {:.2f}, MSE = {:.2f}\".format(SSE, MSE))"
   ]
  },
  {
   "cell_type": "markdown",
   "metadata": {},
   "source": [
    "## Your Turn -- Activity I:  Bacterial Growth "
   ]
  },
  {
   "cell_type": "code",
   "execution_count": null,
   "metadata": {},
   "outputs": [],
   "source": [
    "growth_df = pd.read_excel('data/lect09-2k-factorial.xlsx', sheet_name='Bacteria')\n",
    "growth_df"
   ]
  },
  {
   "cell_type": "code",
   "execution_count": null,
   "metadata": {},
   "outputs": [],
   "source": []
  },
  {
   "cell_type": "code",
   "execution_count": null,
   "metadata": {},
   "outputs": [],
   "source": []
  },
  {
   "cell_type": "code",
   "execution_count": null,
   "metadata": {},
   "outputs": [],
   "source": []
  },
  {
   "cell_type": "code",
   "execution_count": null,
   "metadata": {},
   "outputs": [],
   "source": []
  },
  {
   "cell_type": "markdown",
   "metadata": {},
   "source": [
    "## Estimating Regression Coefficients in Two-level Factorial "
   ]
  },
  {
   "cell_type": "code",
   "execution_count": null,
   "metadata": {},
   "outputs": [],
   "source": [
    "from IPython.display import display, Math\n",
    "\n",
    "from numpy import linalg as LA\n",
    "\n",
    "X = np.array([[+1,-1,-1,-1],\n",
    "                [+1,+1,-1,-1],\n",
    "                [+1,-1,+1,-1],\n",
    "                [+1,+1,+1,-1],\n",
    "                [+1,-1,-1,+1],\n",
    "                [+1,+1,-1,+1],\n",
    "                [+1,-1,+1,+1],\n",
    "                [+1,+1,+1,+1]])\n",
    "display(Math(r'\\mathbf{X}'))\n",
    "print(X)\n",
    "display(Math(r'\\mathbf{X}^T\\mathbf{X}'))\n",
    "print(X.T@X)\n",
    "display(Math(r'(\\mathbf{X}^T\\mathbf{X})^{-1}'))\n",
    "print(LA.inv(X.T@X))"
   ]
  },
  {
   "cell_type": "markdown",
   "metadata": {},
   "source": [
    "**Design matrix generation of 2-level factorial design**"
   ]
  },
  {
   "cell_type": "code",
   "execution_count": null,
   "metadata": {},
   "outputs": [],
   "source": [
    "import string\n",
    "import pandas as pd\n",
    "from itertools import combinations\n",
    "\n",
    "# Return 2-level design matrix for k factors.\n",
    "\n",
    "def gen_factorial_matrix(k, interaction=True, num_rep=1):\n",
    "  Factors =  list(string.ascii_uppercase[0:k])\n",
    "\n",
    "  Dmatrix = pd.DataFrame(columns=Factors)\n",
    "\n",
    "  for i in range(0,k):\n",
    "    neg,pos = -np.ones(2**i), np.ones(2**i)\n",
    "  \n",
    "    Dmatrix[Factors[i]] = np.tile(np.hstack((neg,pos)),2**(k-i-1)).astype(int)\n",
    "  \n",
    "  # Add interaction effects\n",
    "  if interaction:\n",
    "    for t in range(1,k+1):\n",
    "      for m in combinations(Factors, t):\n",
    "        interaction_terms = list(m)\n",
    "        col_name = ''.join(interaction_terms)\n",
    "        Dmatrix[col_name] = Dmatrix[interaction_terms].prod(axis=1)\n",
    "\n",
    "  Dmatrix.insert(0, 'I', np.ones(2**k).astype(int))\n",
    "  Dmatrix = pd.concat([Dmatrix]*num_rep, ignore_index=True)\n",
    "  \n",
    "  return(Dmatrix)"
   ]
  },
  {
   "cell_type": "markdown",
   "metadata": {},
   "source": [
    "Ex:D Design matrix for $2^3$ factorial"
   ]
  },
  {
   "cell_type": "code",
   "execution_count": null,
   "metadata": {},
   "outputs": [],
   "source": [
    "gen_factorial_matrix(k=3, interaction=False, num_rep=1)"
   ]
  },
  {
   "cell_type": "code",
   "execution_count": null,
   "metadata": {
    "scrolled": true
   },
   "outputs": [],
   "source": [
    "gen_factorial_matrix(k=3, interaction=True, num_rep=1)"
   ]
  },
  {
   "cell_type": "markdown",
   "metadata": {},
   "source": [
    "## Fitting regression model to Process yield example"
   ]
  },
  {
   "cell_type": "code",
   "execution_count": null,
   "metadata": {
    "hide_input": true
   },
   "outputs": [],
   "source": [
    "\n",
    "import numpy as np\n",
    "import numpy.linalg as LA\n",
    "\n",
    "X=np.array([[+1,-1,-1,+1],\n",
    "            [+1,+1,-1,-1],\n",
    "            [+1,-1,+1,-1],\n",
    "            [+1,+1,+1,+1],\n",
    "            [+1,-1,-1,+1],\n",
    "            [+1,+1,-1,-1],\n",
    "            [+1,-1,+1,-1],\n",
    "            [+1,+1,+1,+1]])\n",
    "print(X)\n",
    "print((X.T).dot(X))\n",
    "print(LA.inv((X.T).dot(X)))\n",
    "#Note that X’X is diagonal (observing the product pattern) "
   ]
  },
  {
   "cell_type": "code",
   "execution_count": null,
   "metadata": {
    "hide_input": false
   },
   "outputs": [],
   "source": [
    "import pandas as pd\n",
    "\n",
    "y = np.c_[[32,46,57,65,36,48,57,50]]\n",
    "\n",
    "\n",
    "Xmain=np.array([[+1,-1,-1,-1],\n",
    "                [+1,+1,-1,-1],\n",
    "                [+1,-1,+1,-1],\n",
    "                [+1,+1,+1,-1],\n",
    "                [+1,-1,-1,+1],\n",
    "                [+1,+1,-1,+1],\n",
    "                [+1,-1,+1,+1],\n",
    "                [+1,+1,+1,+1]])\n",
    "Xdf = pd.DataFrame(Xmain, columns=['Intercept','A','B','C'])\n",
    "Xdf"
   ]
  },
  {
   "cell_type": "code",
   "execution_count": null,
   "metadata": {},
   "outputs": [],
   "source": [
    "import statsmodels.api as sm\n",
    "\n",
    "yield_model = sm.OLS(y, Xdf).fit()\n",
    "yield_model.summary2()"
   ]
  },
  {
   "cell_type": "code",
   "execution_count": null,
   "metadata": {},
   "outputs": [],
   "source": [
    "import statsmodels.api as sm\n",
    "\n",
    "yield_reduced_model = sm.OLS(y,Xdf.drop(columns=['A','C'])).fit()\n",
    "yield_reduced_model.summary2()"
   ]
  },
  {
   "cell_type": "markdown",
   "metadata": {},
   "source": [
    "Note that the significance of coefficients are not synonymous with those from the ANOVA table  \n",
    "because of high multicollinearity (condition number > 100 in model output)."
   ]
  },
  {
   "cell_type": "markdown",
   "metadata": {},
   "source": [
    "## Visual Assessment in Single Replicate Data"
   ]
  },
  {
   "cell_type": "markdown",
   "metadata": {},
   "source": [
    "### Normal probability plot"
   ]
  },
  {
   "cell_type": "code",
   "execution_count": null,
   "metadata": {},
   "outputs": [],
   "source": [
    "import statsmodels.api as sm\n",
    "import matplotlib.pyplot as plt\n",
    "import numpy as np\n",
    "\n",
    "effects = np.array([21.625,3.125,9.875,14.625,0.125,-18.125,16.625,\n",
    "                    2.375,-0.375,-1.125,1.875,4.125,-1.625,-2.625,1.375])\n",
    "sm.graphics.qqplot(effects,line='q', alpha=0.5, ms=7)\n",
    "plt.title('Normal plot')\n",
    "plt.tight_layout()\n",
    "plt.grid(ls='--')\n",
    "pass;"
   ]
  },
  {
   "cell_type": "markdown",
   "metadata": {},
   "source": [
    "### Normal probability plot in Minitab style"
   ]
  },
  {
   "cell_type": "code",
   "execution_count": null,
   "metadata": {},
   "outputs": [],
   "source": [
    "# Input: effects = a dictionary of all effects \n",
    "#        type = normal or halfnormal\n",
    "#        sig_eff = a list of significant effects\n",
    "\n",
    "def effect_plot(effects, type='normal', sig_eff=None):\n",
    "  \n",
    "  n = len(effects)\n",
    "  val = list(effects.values())\n",
    "  Y = np.abs(val) if type=='halfnormal' else val\n",
    "  Y = np.array(Y)\n",
    "\n",
    "  # Determine sample quantiles from normal distribution and plot them against the effects.\n",
    "  sample_cdf = (np.array(range(1, n+1)) - 0.5)/n  \n",
    "  if type == 'halfnormal':\n",
    "    sample_q = stats.halfnorm.ppf(sample_cdf) \n",
    "  else:\n",
    "    sample_q = stats.norm.ppf(sample_cdf)\n",
    "\n",
    "  _,ax = plt.subplots(figsize=(5,5))\n",
    "  plt.scatter(sorted(Y), sample_q, color='blue', marker='s', s=50, alpha=0.5)\n",
    "\n",
    "  # Set the % normal probability labels for the y-axis.\n",
    "  if type=='halfnormal':\n",
    "    #probs = np.array([1,10, 20, 30, 40, 50, 60,70,80,90,95,97,99])/100\n",
    "    probs = np.array([1,10,20,30,40,50,60,70,80,90,95,97,99])/100\n",
    "    theoretical_q = stats.halfnorm.ppf(probs)\n",
    "  else:\n",
    "    probs = np.array([1,5,10,20,30,40,50,60,70,80,90,95,99])/100\n",
    "    theoretical_q = stats.norm.ppf(probs)\n",
    "  \n",
    "\n",
    "  plt.yticks(theoretical_q, [str(x) for x in (probs*100).astype(int)])\n",
    "  plt.ylim([-0.1,2.7]) if type == 'halfnormal' else plt.ylim([-3,3])\n",
    "  plt.xlim(right=1.1*max(Y))\n",
    "  \n",
    "  if type == 'normal':\n",
    "    # Generate a line passing through quantile 0.25 and 0.75 as the reference.\n",
    "    x1, x2 = np.quantile(Y, 0.25, interpolation='lower'), np.quantile(Y, 0.75, interpolation='lower')\n",
    "    y1, y2 = stats.norm.ppf(0.25), stats.norm.ppf(0.75)\n",
    "    \n",
    "    m = (y2-y1)/(x2-x1) \n",
    "    c = y1-m*x1\n",
    "    x = [sorted(Y)[0], sorted(Y)[-1]]\n",
    "    y = [m*sorted(Y)[0]+c, m*sorted(Y)[-1]+c]\n",
    "    \n",
    "    ax.set_xlabel('Effect estimates', fontsize=14)\n",
    "    ax.set_ylabel('Normal % probability', fontsize=14) \n",
    "  else:\n",
    "    # Generate a line passing through the origin (0,0) and the median as the reference.\n",
    "    x_median = np.quantile(Y, 0.5, interpolation='lower')\n",
    "    y_median = stats.halfnorm.ppf(0.5)\n",
    "    m = y_median/x_median\n",
    "    x = [0, sorted(Y)[-1]]\n",
    "    y = [0, m*sorted(Y)[-1]]\n",
    "    \n",
    "    ax.set_xlabel('|Effect estimates|')\n",
    "    ax.set_ylabel('Half-normal % probability') \n",
    "\n",
    "  ax.tick_params(axis='y', which='major', labelsize=10) # axis='both'\n",
    "  ax.tick_params(axis='y', which='minor', labelsize=8)\n",
    "\n",
    "  \n",
    "  ax.plot(x,y, color='red', alpha=0.5)\n",
    "  plt.grid(ls='--')\n",
    "      \n",
    "  # Annotate the significant effects\n",
    "  if(sig_eff):\n",
    "     \n",
    "    xshift = (max(Y)-min(Y))*0.02\n",
    "\n",
    "    for i, label in enumerate(sig_eff):\n",
    "      x = effects.get(label)\n",
    "      if type == 'halfnormal': x = abs(x)\n",
    "     \n",
    "      idx = np.where(np.array(sorted(Y)) == x)[0].item()+1\n",
    "      if type == 'halfnormal':\n",
    "        text = ax.annotate(label, (x+xshift, stats.halfnorm.ppf((idx-0.5)/n)-0.1) )                                 \n",
    "      else:\n",
    "        text = ax.annotate(label, (x+xshift, stats.norm.ppf((idx-0.5)/n)-0.25) )                                 \n",
    "      text.set_fontsize(12)\n",
    "      \n",
    "  pass;"
   ]
  },
  {
   "cell_type": "code",
   "execution_count": null,
   "metadata": {
    "scrolled": true
   },
   "outputs": [],
   "source": [
    "effects = {'A':21.625,'B':3.125, 'C':9.875,'D':14.625,'AB':0.125, 'AC':-18.125,'AD':16.625,\n",
    "          'BC':2.375, 'BD':-0.375, 'CD':-1.125, 'ABC':1.875, 'ABD':4.125,\n",
    "          'ACD':-1.625,'BCD':-2.625,'ABCD':1.375}\n",
    "sig_eff = ['A','C','D','AC', 'AD']"
   ]
  },
  {
   "cell_type": "code",
   "execution_count": null,
   "metadata": {},
   "outputs": [],
   "source": [
    "effect_plot(effects, type='normal', sig_eff=sig_eff)"
   ]
  },
  {
   "cell_type": "code",
   "execution_count": null,
   "metadata": {},
   "outputs": [],
   "source": [
    "effect_plot(effects, type='halfnormal', sig_eff=sig_eff)"
   ]
  },
  {
   "cell_type": "markdown",
   "metadata": {},
   "source": [
    "**Design Projection**\n",
    "\n",
    "From the visual assessment, non-significant effects can be removed from the factorial effect matrix and the remaining columns  \n",
    "are used to fit the model."
   ]
  }
 ],
 "metadata": {
  "hide_input": false,
  "kernelspec": {
   "display_name": "Python 3 (ipykernel)",
   "language": "python",
   "name": "python3"
  },
  "language_info": {
   "codemirror_mode": {
    "name": "ipython",
    "version": 3
   },
   "file_extension": ".py",
   "mimetype": "text/x-python",
   "name": "python",
   "nbconvert_exporter": "python",
   "pygments_lexer": "ipython3",
   "version": "3.8.11"
  },
  "latex_envs": {
   "LaTeX_envs_menu_present": true,
   "autoclose": true,
   "autocomplete": true,
   "bibliofile": "biblio.bib",
   "cite_by": "apalike",
   "current_citInitial": 1,
   "eqLabelWithNumbers": true,
   "eqNumInitial": 1,
   "hotkeys": {
    "equation": "Ctrl-E",
    "itemize": "Ctrl-I"
   },
   "labels_anchors": false,
   "latex_user_defs": false,
   "report_style_numbering": true,
   "user_envs_cfg": false
  },
  "toc": {
   "base_numbering": 1,
   "nav_menu": {},
   "number_sections": true,
   "sideBar": true,
   "skip_h1_title": true,
   "title_cell": "Table of Contents",
   "title_sidebar": "Contents",
   "toc_cell": true,
   "toc_position": {},
   "toc_section_display": true,
   "toc_window_display": true
  },
  "varInspector": {
   "cols": {
    "lenName": 16,
    "lenType": 16,
    "lenVar": 40
   },
   "kernels_config": {
    "python": {
     "delete_cmd_postfix": "",
     "delete_cmd_prefix": "del ",
     "library": "var_list.py",
     "varRefreshCmd": "print(var_dic_list())"
    },
    "r": {
     "delete_cmd_postfix": ") ",
     "delete_cmd_prefix": "rm(",
     "library": "var_list.r",
     "varRefreshCmd": "cat(var_dic_list()) "
    }
   },
   "types_to_exclude": [
    "module",
    "function",
    "builtin_function_or_method",
    "instance",
    "_Feature"
   ],
   "window_display": false
  }
 },
 "nbformat": 4,
 "nbformat_minor": 4
}
