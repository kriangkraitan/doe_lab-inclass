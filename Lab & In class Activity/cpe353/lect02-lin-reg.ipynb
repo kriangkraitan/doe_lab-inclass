{
 "cells": [
  {
   "cell_type": "markdown",
   "metadata": {
    "toc": true
   },
   "source": [
    "<h1>Table of Contents<span class=\"tocSkip\"></span></h1>\n",
    "<div class=\"toc\"><ul class=\"toc-item\"><li><span><a href=\"#OLS-Regression\" data-toc-modified-id=\"OLS-Regression-1\"><span class=\"toc-item-num\">1&nbsp;&nbsp;</span>OLS Regression</a></span></li><li><span><a href=\"#Your-Turn----Activity-I:-Murder-rate-model\" data-toc-modified-id=\"Your-Turn----Activity-I:-Murder-rate-model-2\"><span class=\"toc-item-num\">2&nbsp;&nbsp;</span>Your Turn -- Activity I: Murder rate model</a></span></li><li><span><a href=\"#Your-Turn----Activity-II:-Partial-F-Test\" data-toc-modified-id=\"Your-Turn----Activity-II:-Partial-F-Test-3\"><span class=\"toc-item-num\">3&nbsp;&nbsp;</span>Your Turn -- Activity II: Partial F-Test</a></span></li></ul></div>"
   ]
  },
  {
   "cell_type": "markdown",
   "metadata": {},
   "source": [
    "## OLS Regression"
   ]
  },
  {
   "cell_type": "code",
   "execution_count": 1,
   "metadata": {},
   "outputs": [
    {
     "name": "stdout",
     "output_type": "stream",
     "text": [
      "\n",
      "Enabling interactive shell outputs ...\n",
      "   Use command pass; to disable cell text outputs\n"
     ]
    }
   ],
   "source": [
    "print('\\nEnabling interactive shell outputs ...')\n",
    "print('   Use command pass; to disable cell text outputs')\n",
    "from IPython.core.interactiveshell import InteractiveShell\n",
    "InteractiveShell.ast_node_interactivity = \"all\"\n",
    "\n",
    "import warnings\n",
    "warnings.filterwarnings('ignore') \n",
    "warnings.simplefilter(action=\"ignore\",category=UserWarning)\n",
    "warnings.simplefilter(action=\"ignore\",category=FutureWarning)"
   ]
  },
  {
   "cell_type": "code",
   "execution_count": 2,
   "metadata": {
    "scrolled": true
   },
   "outputs": [],
   "source": [
    "import pandas as pd\n",
    "\n",
    "vis_df = pd.read_excel('data/lect02-lin-reg.xlsx', \n",
    "                       sheet_name='Viscosity', header=0)\n",
    "\n"
   ]
  },
  {
   "cell_type": "code",
   "execution_count": 3,
   "metadata": {
    "scrolled": true
   },
   "outputs": [],
   "source": [
    "import statsmodels.api as sm\n",
    "\n",
    "Y = vis_df.Viscosity\n",
    "X = vis_df.drop('Viscosity', axis=1)\n",
    "Xreg = sm.add_constant(X)\n"
   ]
  },
  {
   "cell_type": "code",
   "execution_count": 4,
   "metadata": {},
   "outputs": [],
   "source": [
    "# Fit by using API\n",
    "vis_lm = sm.OLS(Y, Xreg).fit()\n",
    "\n"
   ]
  },
  {
   "cell_type": "code",
   "execution_count": 5,
   "metadata": {},
   "outputs": [],
   "source": [
    "# Fit by using formula\n",
    "from statsmodels.formula.api import ols\n",
    "\n",
    "formula = 'Viscosity ~ Temperature + Catalyst'\n",
    "#formula = 'Viscosity ~ Temperature + Catalyst - 1'\n",
    "\n",
    "vis_lm = ols(formula, data=vis_df).fit()\n",
    "\n"
   ]
  },
  {
   "cell_type": "code",
   "execution_count": 7,
   "metadata": {},
   "outputs": [
    {
     "data": {
      "text/plain": [
       "array([2389.26425611])"
      ]
     },
     "execution_count": 7,
     "metadata": {},
     "output_type": "execute_result"
    }
   ],
   "source": [
    "# Making prediction\n",
    "import numpy as np\n",
    "Xk = X.iloc[[5],:]  # Get row 5 (as dataframe) \n",
    "Xreg_k = sm.add_constant(Xk, has_constant='add') \n",
    "\n",
    "\n",
    "Yk = np.array(vis_lm.predict(exog=Xreg_k))\n",
    "Yk"
   ]
  },
  {
   "cell_type": "code",
   "execution_count": 8,
   "metadata": {},
   "outputs": [
    {
     "name": "stdout",
     "output_type": "stream",
     "text": [
      "Sum of Squared Errors (SSE): 3478.85\n",
      "Sum of Squared Regression (SSR): 44157.09\n",
      "Sum of Squared Total (SST): 47635.94\n",
      "Residual df (n-p): 13\n",
      "Mean Squared errors (MSE): 267.60\n",
      "Standard Errors (Se): 16.36\n"
     ]
    }
   ],
   "source": [
    "print(\"Sum of Squared Errors (SSE): {:.2f}\".format(vis_lm.ssr)) # Sum of Squares Residuals\n",
    "print(\"Sum of Squared Regression (SSR): {:.2f}\".format(vis_lm.ess)) # Explained sum of squares\n",
    "print(\"Sum of Squared Total (SST): {:.2f}\".format(vis_lm.centered_tss)) # Total sum of squares\n",
    "print(\"Residual df (n-p): {:.0f}\".format(vis_lm.df_resid))\n",
    "print(\"Mean Squared errors (MSE): {:.2f}\".format(vis_lm.mse_resid))\n",
    "print(\"Standard Errors (Se): {:.2f}\".format(np.sqrt(vis_lm.mse_resid)))"
   ]
  },
  {
   "cell_type": "code",
   "execution_count": 9,
   "metadata": {
    "scrolled": true
   },
   "outputs": [
    {
     "name": "stdout",
     "output_type": "stream",
     "text": [
      "R-squared: 0.927\n",
      "Adjusted R-squared: 0.916\n"
     ]
    }
   ],
   "source": [
    "print(\"R-squared: {:.3f}\".format(vis_lm.rsquared))\n",
    "print(\"Adjusted R-squared: {:.3f}\".format(vis_lm.rsquared_adj))"
   ]
  },
  {
   "cell_type": "code",
   "execution_count": null,
   "metadata": {
    "scrolled": true
   },
   "outputs": [],
   "source": []
  },
  {
   "cell_type": "markdown",
   "metadata": {},
   "source": [
    "## Your Turn -- Activity I: Murder rate model\n"
   ]
  },
  {
   "cell_type": "code",
   "execution_count": null,
   "metadata": {},
   "outputs": [],
   "source": [
    "murder_data = pd.read_excel('data/lect02-lin-reg.xlsx', sheet_name='State murder')\n",
    "murder_data.describe(include='all')"
   ]
  },
  {
   "cell_type": "code",
   "execution_count": null,
   "metadata": {},
   "outputs": [],
   "source": []
  },
  {
   "cell_type": "code",
   "execution_count": null,
   "metadata": {},
   "outputs": [],
   "source": []
  },
  {
   "cell_type": "code",
   "execution_count": null,
   "metadata": {},
   "outputs": [],
   "source": []
  },
  {
   "cell_type": "code",
   "execution_count": null,
   "metadata": {},
   "outputs": [],
   "source": []
  },
  {
   "cell_type": "markdown",
   "metadata": {},
   "source": [
    "## Your Turn -- Activity II: Partial F-Test"
   ]
  },
  {
   "cell_type": "code",
   "execution_count": null,
   "metadata": {},
   "outputs": [],
   "source": [
    "shear_df = pd.read_excel('data/lect02-lin-reg.xlsx', sheet_name='Strength')\n",
    "shear_df.head()"
   ]
  },
  {
   "cell_type": "code",
   "execution_count": null,
   "metadata": {},
   "outputs": [],
   "source": []
  },
  {
   "cell_type": "code",
   "execution_count": null,
   "metadata": {
    "scrolled": true
   },
   "outputs": [],
   "source": []
  },
  {
   "cell_type": "code",
   "execution_count": null,
   "metadata": {},
   "outputs": [],
   "source": []
  },
  {
   "cell_type": "code",
   "execution_count": null,
   "metadata": {},
   "outputs": [],
   "source": []
  }
 ],
 "metadata": {
  "hide_input": false,
  "kernelspec": {
   "display_name": "Python 3 (ipykernel)",
   "language": "python",
   "name": "python3"
  },
  "language_info": {
   "codemirror_mode": {
    "name": "ipython",
    "version": 3
   },
   "file_extension": ".py",
   "mimetype": "text/x-python",
   "name": "python",
   "nbconvert_exporter": "python",
   "pygments_lexer": "ipython3",
   "version": "3.8.11"
  },
  "latex_envs": {
   "LaTeX_envs_menu_present": true,
   "autoclose": true,
   "autocomplete": true,
   "bibliofile": "biblio.bib",
   "cite_by": "apalike",
   "current_citInitial": 1,
   "eqLabelWithNumbers": true,
   "eqNumInitial": 1,
   "hotkeys": {
    "equation": "Ctrl-E",
    "itemize": "Ctrl-I"
   },
   "labels_anchors": false,
   "latex_user_defs": false,
   "report_style_numbering": true,
   "user_envs_cfg": false
  },
  "toc": {
   "base_numbering": 1,
   "nav_menu": {},
   "number_sections": true,
   "sideBar": true,
   "skip_h1_title": true,
   "title_cell": "Table of Contents",
   "title_sidebar": "Contents",
   "toc_cell": true,
   "toc_position": {},
   "toc_section_display": true,
   "toc_window_display": true
  },
  "varInspector": {
   "cols": {
    "lenName": 16,
    "lenType": 16,
    "lenVar": 40
   },
   "kernels_config": {
    "python": {
     "delete_cmd_postfix": "",
     "delete_cmd_prefix": "del ",
     "library": "var_list.py",
     "varRefreshCmd": "print(var_dic_list())"
    },
    "r": {
     "delete_cmd_postfix": ") ",
     "delete_cmd_prefix": "rm(",
     "library": "var_list.r",
     "varRefreshCmd": "cat(var_dic_list()) "
    }
   },
   "types_to_exclude": [
    "module",
    "function",
    "builtin_function_or_method",
    "instance",
    "_Feature"
   ],
   "window_display": false
  }
 },
 "nbformat": 4,
 "nbformat_minor": 4
}
