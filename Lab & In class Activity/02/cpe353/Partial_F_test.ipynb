{
 "cells": [
  {
   "cell_type": "markdown",
   "metadata": {
    "toc": true
   },
   "source": [
    "<h1>Table of Contents<span class=\"tocSkip\"></span></h1>\n",
    "<div class=\"toc\"><ul class=\"toc-item\"><li><span><a href=\"#OLS-Regression\" data-toc-modified-id=\"OLS-Regression-1\"><span class=\"toc-item-num\">1&nbsp;&nbsp;</span>OLS Regression</a></span></li><li><span><a href=\"#Your-Turn----Activity-I:-Murder-rate-model\" data-toc-modified-id=\"Your-Turn----Activity-I:-Murder-rate-model-2\"><span class=\"toc-item-num\">2&nbsp;&nbsp;</span>Your Turn -- Activity I: Murder rate model</a></span></li><li><span><a href=\"#Your-Turn----Activity-II:-Partial-F-Test\" data-toc-modified-id=\"Your-Turn----Activity-II:-Partial-F-Test-3\"><span class=\"toc-item-num\">3&nbsp;&nbsp;</span>Your Turn -- Activity II: Partial F-Test</a></span></li></ul></div>"
   ]
  },
  {
   "cell_type": "markdown",
   "metadata": {},
   "source": [
    "## Your Turn -- Activity II: Partial F-Test"
   ]
  },
  {
   "cell_type": "code",
   "execution_count": 2,
   "metadata": {
    "scrolled": true
   },
   "outputs": [
    {
     "data": {
      "text/html": [
       "<div>\n",
       "<style scoped>\n",
       "    .dataframe tbody tr th:only-of-type {\n",
       "        vertical-align: middle;\n",
       "    }\n",
       "\n",
       "    .dataframe tbody tr th {\n",
       "        vertical-align: top;\n",
       "    }\n",
       "\n",
       "    .dataframe thead th {\n",
       "        text-align: right;\n",
       "    }\n",
       "</style>\n",
       "<table border=\"1\" class=\"dataframe\">\n",
       "  <thead>\n",
       "    <tr style=\"text-align: right;\">\n",
       "      <th></th>\n",
       "      <th>Force</th>\n",
       "      <th>Power</th>\n",
       "      <th>Temperature</th>\n",
       "      <th>Time</th>\n",
       "      <th>Strength</th>\n",
       "    </tr>\n",
       "  </thead>\n",
       "  <tbody>\n",
       "    <tr>\n",
       "      <th>0</th>\n",
       "      <td>30</td>\n",
       "      <td>60</td>\n",
       "      <td>175</td>\n",
       "      <td>15</td>\n",
       "      <td>26.2</td>\n",
       "    </tr>\n",
       "    <tr>\n",
       "      <th>1</th>\n",
       "      <td>40</td>\n",
       "      <td>60</td>\n",
       "      <td>175</td>\n",
       "      <td>15</td>\n",
       "      <td>26.3</td>\n",
       "    </tr>\n",
       "    <tr>\n",
       "      <th>2</th>\n",
       "      <td>30</td>\n",
       "      <td>90</td>\n",
       "      <td>175</td>\n",
       "      <td>15</td>\n",
       "      <td>39.8</td>\n",
       "    </tr>\n",
       "    <tr>\n",
       "      <th>3</th>\n",
       "      <td>40</td>\n",
       "      <td>90</td>\n",
       "      <td>175</td>\n",
       "      <td>15</td>\n",
       "      <td>39.7</td>\n",
       "    </tr>\n",
       "    <tr>\n",
       "      <th>4</th>\n",
       "      <td>30</td>\n",
       "      <td>60</td>\n",
       "      <td>225</td>\n",
       "      <td>15</td>\n",
       "      <td>38.6</td>\n",
       "    </tr>\n",
       "  </tbody>\n",
       "</table>\n",
       "</div>"
      ],
      "text/plain": [
       "   Force  Power  Temperature  Time  Strength\n",
       "0     30     60          175    15      26.2\n",
       "1     40     60          175    15      26.3\n",
       "2     30     90          175    15      39.8\n",
       "3     40     90          175    15      39.7\n",
       "4     30     60          225    15      38.6"
      ]
     },
     "execution_count": 2,
     "metadata": {},
     "output_type": "execute_result"
    }
   ],
   "source": [
    "import pandas as pd\n",
    "shear_df = pd.read_excel('data/lect02-lin-reg.xlsx', sheet_name='Strength')\n",
    "shear_df.head()"
   ]
  },
  {
   "cell_type": "code",
   "execution_count": 3,
   "metadata": {},
   "outputs": [
    {
     "name": "stderr",
     "output_type": "stream",
     "text": [
      "C:\\Users\\2543b\\anaconda3\\lib\\site-packages\\statsmodels\\tsa\\tsatools.py:142: FutureWarning: In a future version of pandas all arguments of concat except for the argument 'objs' will be keyword-only\n",
      "  x = pd.concat(x[::order], 1)\n"
     ]
    }
   ],
   "source": [
    "import statsmodels.api as sm\n",
    "\n",
    "Y = shear_df.Strength\n",
    "X = shear_df.drop('Strength', axis=1)\n",
    "Xreg = sm.add_constant(X)\n"
   ]
  },
  {
   "cell_type": "code",
   "execution_count": 4,
   "metadata": {
    "scrolled": true
   },
   "outputs": [],
   "source": [
    "shear_lm = sm.OLS(Y, Xreg).fit()\n"
   ]
  },
  {
   "cell_type": "code",
   "execution_count": 5,
   "metadata": {},
   "outputs": [],
   "source": [
    "# Fit by using formula\n",
    "from statsmodels.formula.api import ols\n",
    "\n",
    "formula = 'Strength ~ Temperature + Power'\n",
    "#formula = 'Viscosity ~ Temperature + Catalyst - 1'\n",
    "\n",
    "shear_lm = ols(formula, data=shear_df).fit()\n",
    "\n"
   ]
  },
  {
   "cell_type": "code",
   "execution_count": 6,
   "metadata": {},
   "outputs": [
    {
     "data": {
      "text/html": [
       "<table class=\"simpletable\">\n",
       "<tr>\n",
       "        <td>Model:</td>               <td>OLS</td>         <td>Adj. R-squared:</td>     <td>0.662</td> \n",
       "</tr>\n",
       "<tr>\n",
       "  <td>Dependent Variable:</td>     <td>Strength</td>            <td>AIC:</td>         <td>186.9755</td>\n",
       "</tr>\n",
       "<tr>\n",
       "         <td>Date:</td>        <td>2021-09-02 11:13</td>        <td>BIC:</td>         <td>191.1791</td>\n",
       "</tr>\n",
       "<tr>\n",
       "   <td>No. Observations:</td>         <td>30</td>          <td>Log-Likelihood:</td>    <td>-90.488</td>\n",
       "</tr>\n",
       "<tr>\n",
       "       <td>Df Model:</td>              <td>2</td>           <td>F-statistic:</td>       <td>29.38</td> \n",
       "</tr>\n",
       "<tr>\n",
       "     <td>Df Residuals:</td>           <td>27</td>        <td>Prob (F-statistic):</td> <td>1.67e-07</td>\n",
       "</tr>\n",
       "<tr>\n",
       "      <td>R-squared:</td>            <td>0.685</td>            <td>Scale:</td>         <td>27.113</td> \n",
       "</tr>\n",
       "</table>\n",
       "<table class=\"simpletable\">\n",
       "<tr>\n",
       "       <td></td>         <th>Coef.</th>  <th>Std.Err.</th>    <th>t</th>     <th>P>|t|</th>  <th>[0.025</th>  <th>0.975]</th> \n",
       "</tr>\n",
       "<tr>\n",
       "  <th>Intercept</th>   <td>-24.9017</td>  <td>10.0721</td> <td>-2.4723</td> <td>0.0200</td> <td>-45.5678</td> <td>-4.2355</td>\n",
       "</tr>\n",
       "<tr>\n",
       "  <th>Temperature</th>  <td>0.1297</td>   <td>0.0425</td>  <td>3.0499</td>  <td>0.0051</td>  <td>0.0424</td>  <td>0.2169</td> \n",
       "</tr>\n",
       "<tr>\n",
       "  <th>Power</th>        <td>0.4983</td>   <td>0.0709</td>  <td>7.0328</td>  <td>0.0000</td>  <td>0.3529</td>  <td>0.6437</td> \n",
       "</tr>\n",
       "</table>\n",
       "<table class=\"simpletable\">\n",
       "<tr>\n",
       "     <td>Omnibus:</td>     <td>0.289</td>  <td>Durbin-Watson:</td>   <td>2.351</td>\n",
       "</tr>\n",
       "<tr>\n",
       "  <td>Prob(Omnibus):</td>  <td>0.866</td> <td>Jarque-Bera (JB):</td> <td>0.086</td>\n",
       "</tr>\n",
       "<tr>\n",
       "       <td>Skew:</td>     <td>-0.127</td>     <td>Prob(JB):</td>     <td>0.958</td>\n",
       "</tr>\n",
       "<tr>\n",
       "     <td>Kurtosis:</td>    <td>2.935</td>  <td>Condition No.:</td>   <td>2275</td> \n",
       "</tr>\n",
       "</table>"
      ],
      "text/plain": [
       "<class 'statsmodels.iolib.summary2.Summary'>\n",
       "\"\"\"\n",
       "                 Results: Ordinary least squares\n",
       "=================================================================\n",
       "Model:              OLS              Adj. R-squared:     0.662   \n",
       "Dependent Variable: Strength         AIC:                186.9755\n",
       "Date:               2021-09-02 11:13 BIC:                191.1791\n",
       "No. Observations:   30               Log-Likelihood:     -90.488 \n",
       "Df Model:           2                F-statistic:        29.38   \n",
       "Df Residuals:       27               Prob (F-statistic): 1.67e-07\n",
       "R-squared:          0.685            Scale:              27.113  \n",
       "-----------------------------------------------------------------\n",
       "                 Coef.   Std.Err.    t    P>|t|   [0.025   0.975]\n",
       "-----------------------------------------------------------------\n",
       "Intercept       -24.9017  10.0721 -2.4723 0.0200 -45.5678 -4.2355\n",
       "Temperature       0.1297   0.0425  3.0499 0.0051   0.0424  0.2169\n",
       "Power             0.4983   0.0709  7.0328 0.0000   0.3529  0.6437\n",
       "-----------------------------------------------------------------\n",
       "Omnibus:               0.289        Durbin-Watson:          2.351\n",
       "Prob(Omnibus):         0.866        Jarque-Bera (JB):       0.086\n",
       "Skew:                  -0.127       Prob(JB):               0.958\n",
       "Kurtosis:              2.935        Condition No.:          2275 \n",
       "=================================================================\n",
       "* The condition number is large (2e+03). This might indicate\n",
       "strong multicollinearity or other numerical problems.\n",
       "\"\"\""
      ]
     },
     "execution_count": 6,
     "metadata": {},
     "output_type": "execute_result"
    }
   ],
   "source": [
    "shear_lm.summary2()"
   ]
  },
  {
   "cell_type": "markdown",
   "metadata": {},
   "source": [
    "### จาก P-Value Temperature และ Power มีความ significant "
   ]
  },
  {
   "cell_type": "code",
   "execution_count": 7,
   "metadata": {},
   "outputs": [],
   "source": [
    "# Fit by using formula\n",
    "from statsmodels.formula.api import ols\n",
    "\n",
    "formula2 = 'Strength ~ Temperature + Power + Force + Time '\n",
    "#formula = 'Viscosity ~ Temperature + Catalyst - 1'\n",
    "\n",
    "shear_lm2 = ols(formula2, data=shear_df).fit()\n",
    "\n"
   ]
  },
  {
   "cell_type": "code",
   "execution_count": 8,
   "metadata": {},
   "outputs": [
    {
     "data": {
      "text/html": [
       "<table class=\"simpletable\">\n",
       "<tr>\n",
       "        <td>Model:</td>               <td>OLS</td>         <td>Adj. R-squared:</td>     <td>0.668</td> \n",
       "</tr>\n",
       "<tr>\n",
       "  <td>Dependent Variable:</td>     <td>Strength</td>            <td>AIC:</td>         <td>188.0994</td>\n",
       "</tr>\n",
       "<tr>\n",
       "         <td>Date:</td>        <td>2021-09-02 11:13</td>        <td>BIC:</td>         <td>195.1053</td>\n",
       "</tr>\n",
       "<tr>\n",
       "   <td>No. Observations:</td>         <td>30</td>          <td>Log-Likelihood:</td>    <td>-89.050</td>\n",
       "</tr>\n",
       "<tr>\n",
       "       <td>Df Model:</td>              <td>4</td>           <td>F-statistic:</td>       <td>15.60</td> \n",
       "</tr>\n",
       "<tr>\n",
       "     <td>Df Residuals:</td>           <td>25</td>        <td>Prob (F-statistic):</td> <td>1.59e-06</td>\n",
       "</tr>\n",
       "<tr>\n",
       "      <td>R-squared:</td>            <td>0.714</td>            <td>Scale:</td>         <td>26.605</td> \n",
       "</tr>\n",
       "</table>\n",
       "<table class=\"simpletable\">\n",
       "<tr>\n",
       "       <td></td>         <th>Coef.</th>  <th>Std.Err.</th>    <th>t</th>     <th>P>|t|</th>  <th>[0.025</th>   <th>0.975]</th> \n",
       "</tr>\n",
       "<tr>\n",
       "  <th>Intercept</th>   <td>-37.4767</td>  <td>13.0996</td> <td>-2.8609</td> <td>0.0084</td> <td>-64.4559</td> <td>-10.4974</td>\n",
       "</tr>\n",
       "<tr>\n",
       "  <th>Temperature</th>  <td>0.1297</td>   <td>0.0421</td>  <td>3.0789</td>  <td>0.0050</td>  <td>0.0429</td>   <td>0.2164</td> \n",
       "</tr>\n",
       "<tr>\n",
       "  <th>Power</th>        <td>0.4983</td>   <td>0.0702</td>  <td>7.0997</td>  <td>0.0000</td>  <td>0.3538</td>   <td>0.6429</td> \n",
       "</tr>\n",
       "<tr>\n",
       "  <th>Force</th>        <td>0.2117</td>   <td>0.2106</td>  <td>1.0052</td>  <td>0.3244</td>  <td>-0.2220</td>  <td>0.6454</td> \n",
       "</tr>\n",
       "<tr>\n",
       "  <th>Time</th>         <td>0.2583</td>   <td>0.2106</td>  <td>1.2268</td>  <td>0.2313</td>  <td>-0.1754</td>  <td>0.6920</td> \n",
       "</tr>\n",
       "</table>\n",
       "<table class=\"simpletable\">\n",
       "<tr>\n",
       "     <td>Omnibus:</td>     <td>1.712</td>  <td>Durbin-Watson:</td>   <td>2.261</td>\n",
       "</tr>\n",
       "<tr>\n",
       "  <td>Prob(Omnibus):</td>  <td>0.425</td> <td>Jarque-Bera (JB):</td> <td>1.156</td>\n",
       "</tr>\n",
       "<tr>\n",
       "       <td>Skew:</td>     <td>-0.480</td>     <td>Prob(JB):</td>     <td>0.561</td>\n",
       "</tr>\n",
       "<tr>\n",
       "     <td>Kurtosis:</td>    <td>2.965</td>  <td>Condition No.:</td>   <td>3038</td> \n",
       "</tr>\n",
       "</table>"
      ],
      "text/plain": [
       "<class 'statsmodels.iolib.summary2.Summary'>\n",
       "\"\"\"\n",
       "                 Results: Ordinary least squares\n",
       "=================================================================\n",
       "Model:              OLS              Adj. R-squared:     0.668   \n",
       "Dependent Variable: Strength         AIC:                188.0994\n",
       "Date:               2021-09-02 11:13 BIC:                195.1053\n",
       "No. Observations:   30               Log-Likelihood:     -89.050 \n",
       "Df Model:           4                F-statistic:        15.60   \n",
       "Df Residuals:       25               Prob (F-statistic): 1.59e-06\n",
       "R-squared:          0.714            Scale:              26.605  \n",
       "-----------------------------------------------------------------\n",
       "                Coef.   Std.Err.    t    P>|t|   [0.025   0.975] \n",
       "-----------------------------------------------------------------\n",
       "Intercept      -37.4767  13.0996 -2.8609 0.0084 -64.4559 -10.4974\n",
       "Temperature      0.1297   0.0421  3.0789 0.0050   0.0429   0.2164\n",
       "Power            0.4983   0.0702  7.0997 0.0000   0.3538   0.6429\n",
       "Force            0.2117   0.2106  1.0052 0.3244  -0.2220   0.6454\n",
       "Time             0.2583   0.2106  1.2268 0.2313  -0.1754   0.6920\n",
       "-----------------------------------------------------------------\n",
       "Omnibus:               1.712        Durbin-Watson:          2.261\n",
       "Prob(Omnibus):         0.425        Jarque-Bera (JB):       1.156\n",
       "Skew:                  -0.480       Prob(JB):               0.561\n",
       "Kurtosis:              2.965        Condition No.:          3038 \n",
       "=================================================================\n",
       "* The condition number is large (3e+03). This might indicate\n",
       "strong multicollinearity or other numerical problems.\n",
       "\"\"\""
      ]
     },
     "execution_count": 8,
     "metadata": {},
     "output_type": "execute_result"
    }
   ],
   "source": [
    "shear_lm2.summary2()"
   ]
  },
  {
   "cell_type": "markdown",
   "metadata": {},
   "source": [
    "### จากผลจะเห็นได้ว่าเมื่อตัวแปรเพิ่มขึ้นจะทำให้ F-Statistic ลดลง ส่งผลให้ Predict ได้ดียิ่งขึ้น"
   ]
  },
  {
   "cell_type": "markdown",
   "metadata": {},
   "source": [
    "### จาก P-Value Temperature และ Power มีความ significant "
   ]
  },
  {
   "cell_type": "code",
   "execution_count": 9,
   "metadata": {},
   "outputs": [],
   "source": [
    "sse_k = shear_lm.ssr\n",
    "sse = shear_lm2.ssr\n",
    "mse = shear_lm2.mse_resid"
   ]
  },
  {
   "cell_type": "code",
   "execution_count": 10,
   "metadata": {},
   "outputs": [],
   "source": [
    "f0 = ((sse_k - sse ) /2 )/mse"
   ]
  },
  {
   "cell_type": "code",
   "execution_count": 11,
   "metadata": {},
   "outputs": [
    {
     "name": "stdout",
     "output_type": "stream",
     "text": [
      "1.2577329559236514\n"
     ]
    }
   ],
   "source": [
    "print(f0)"
   ]
  },
  {
   "cell_type": "code",
   "execution_count": 12,
   "metadata": {},
   "outputs": [
    {
     "data": {
      "text/plain": [
       "0.301674930195559"
      ]
     },
     "execution_count": 12,
     "metadata": {},
     "output_type": "execute_result"
    }
   ],
   "source": [
    "from scipy import stats\n",
    "stats.f.sf(f0, 2, 25)"
   ]
  },
  {
   "cell_type": "markdown",
   "metadata": {},
   "source": [
    "### Coefficient ของตัวแปรอื่นๆ  ไม่ต่างจาก 0 ไม่ช่วยในการ Predict ค่า Y ได้ดียิ่งขึ้น"
   ]
  },
  {
   "cell_type": "code",
   "execution_count": null,
   "metadata": {},
   "outputs": [],
   "source": []
  }
 ],
 "metadata": {
  "hide_input": false,
  "kernelspec": {
   "display_name": "Python 3 (ipykernel)",
   "language": "python",
   "name": "python3"
  },
  "language_info": {
   "codemirror_mode": {
    "name": "ipython",
    "version": 3
   },
   "file_extension": ".py",
   "mimetype": "text/x-python",
   "name": "python",
   "nbconvert_exporter": "python",
   "pygments_lexer": "ipython3",
   "version": "3.8.11"
  },
  "latex_envs": {
   "LaTeX_envs_menu_present": true,
   "autoclose": true,
   "autocomplete": true,
   "bibliofile": "biblio.bib",
   "cite_by": "apalike",
   "current_citInitial": 1,
   "eqLabelWithNumbers": true,
   "eqNumInitial": 1,
   "hotkeys": {
    "equation": "Ctrl-E",
    "itemize": "Ctrl-I"
   },
   "labels_anchors": false,
   "latex_user_defs": false,
   "report_style_numbering": true,
   "user_envs_cfg": false
  },
  "toc": {
   "base_numbering": 1,
   "nav_menu": {},
   "number_sections": true,
   "sideBar": true,
   "skip_h1_title": true,
   "title_cell": "Table of Contents",
   "title_sidebar": "Contents",
   "toc_cell": true,
   "toc_position": {},
   "toc_section_display": true,
   "toc_window_display": true
  },
  "varInspector": {
   "cols": {
    "lenName": 16,
    "lenType": 16,
    "lenVar": 40
   },
   "kernels_config": {
    "python": {
     "delete_cmd_postfix": "",
     "delete_cmd_prefix": "del ",
     "library": "var_list.py",
     "varRefreshCmd": "print(var_dic_list())"
    },
    "r": {
     "delete_cmd_postfix": ") ",
     "delete_cmd_prefix": "rm(",
     "library": "var_list.r",
     "varRefreshCmd": "cat(var_dic_list()) "
    }
   },
   "types_to_exclude": [
    "module",
    "function",
    "builtin_function_or_method",
    "instance",
    "_Feature"
   ],
   "window_display": false
  }
 },
 "nbformat": 4,
 "nbformat_minor": 4
}
