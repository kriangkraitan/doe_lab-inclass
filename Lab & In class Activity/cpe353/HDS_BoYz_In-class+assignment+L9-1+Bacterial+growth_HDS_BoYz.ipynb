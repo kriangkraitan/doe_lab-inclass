{
 "cells": [
  {
   "cell_type": "markdown",
   "id": "9e1e8181",
   "metadata": {},
   "source": [
    "## Your Turn -- Activity I:  Bacterial Growth "
   ]
  },
  {
   "cell_type": "code",
   "execution_count": 1,
   "id": "8a9135b4",
   "metadata": {},
   "outputs": [
    {
     "name": "stdout",
     "output_type": "stream",
     "text": [
      "D:\\Pum_Program\\HDS_WORK\\Year 3\\Semester 1\\CPE353 Design of experiments\\lecture 9\n"
     ]
    }
   ],
   "source": [
    "%cd D:\\Pum_Program\\HDS_WORK\\Year 3\\Semester 1\\CPE353 Design of experiments\\lecture 9"
   ]
  },
  {
   "cell_type": "code",
   "execution_count": 11,
   "id": "a29ae901",
   "metadata": {},
   "outputs": [
    {
     "name": "stdout",
     "output_type": "stream",
     "text": [
      "\n",
      "Enabling interactive shell outputs ...\n",
      "   Use command pass; to disable cell text outputs\n"
     ]
    }
   ],
   "source": [
    "print('\\nEnabling interactive shell outputs ...')\n",
    "print('   Use command pass; to disable cell text outputs')\n",
    "from IPython.core.interactiveshell import InteractiveShell\n",
    "InteractiveShell.ast_node_interactivity = \"all\"\n",
    "\n",
    "import warnings\n",
    "warnings.filterwarnings('ignore') \n",
    "warnings.simplefilter(action=\"ignore\",category=UserWarning)\n",
    "warnings.simplefilter(action=\"ignore\",category=FutureWarning)\n",
    "\n",
    "import pandas as pd \n",
    "import numpy as np\n",
    "import matplotlib.pyplot as plt\n",
    "import seaborn as sns\n",
    "from scipy import stats\n",
    "import statsmodels.api as sm\n",
    "\n",
    "\n",
    "\n",
    "%matplotlib inline\n",
    "%config InlineBackend.figure_formats = {'png', 'retina'}"
   ]
  },
  {
   "cell_type": "code",
   "execution_count": 6,
   "id": "29b16b30",
   "metadata": {},
   "outputs": [
    {
     "data": {
      "text/html": [
       "<div>\n",
       "<style scoped>\n",
       "    .dataframe tbody tr th:only-of-type {\n",
       "        vertical-align: middle;\n",
       "    }\n",
       "\n",
       "    .dataframe tbody tr th {\n",
       "        vertical-align: top;\n",
       "    }\n",
       "\n",
       "    .dataframe thead th {\n",
       "        text-align: right;\n",
       "    }\n",
       "</style>\n",
       "<table border=\"1\" class=\"dataframe\">\n",
       "  <thead>\n",
       "    <tr style=\"text-align: right;\">\n",
       "      <th></th>\n",
       "      <th>A</th>\n",
       "      <th>B</th>\n",
       "      <th>Rep1</th>\n",
       "      <th>Rep2</th>\n",
       "      <th>Rep3</th>\n",
       "      <th>Rep4</th>\n",
       "      <th>Rep5</th>\n",
       "      <th>Rep6</th>\n",
       "    </tr>\n",
       "  </thead>\n",
       "  <tbody>\n",
       "    <tr>\n",
       "      <th>0</th>\n",
       "      <td>-1</td>\n",
       "      <td>-1</td>\n",
       "      <td>21</td>\n",
       "      <td>22</td>\n",
       "      <td>23</td>\n",
       "      <td>28</td>\n",
       "      <td>20</td>\n",
       "      <td>26</td>\n",
       "    </tr>\n",
       "    <tr>\n",
       "      <th>1</th>\n",
       "      <td>1</td>\n",
       "      <td>-1</td>\n",
       "      <td>37</td>\n",
       "      <td>39</td>\n",
       "      <td>38</td>\n",
       "      <td>38</td>\n",
       "      <td>35</td>\n",
       "      <td>36</td>\n",
       "    </tr>\n",
       "    <tr>\n",
       "      <th>2</th>\n",
       "      <td>-1</td>\n",
       "      <td>1</td>\n",
       "      <td>25</td>\n",
       "      <td>26</td>\n",
       "      <td>24</td>\n",
       "      <td>25</td>\n",
       "      <td>29</td>\n",
       "      <td>27</td>\n",
       "    </tr>\n",
       "    <tr>\n",
       "      <th>3</th>\n",
       "      <td>1</td>\n",
       "      <td>1</td>\n",
       "      <td>31</td>\n",
       "      <td>34</td>\n",
       "      <td>29</td>\n",
       "      <td>33</td>\n",
       "      <td>30</td>\n",
       "      <td>35</td>\n",
       "    </tr>\n",
       "  </tbody>\n",
       "</table>\n",
       "</div>"
      ],
      "text/plain": [
       "   A  B  Rep1  Rep2  Rep3  Rep4  Rep5  Rep6\n",
       "0 -1 -1    21    22    23    28    20    26\n",
       "1  1 -1    37    39    38    38    35    36\n",
       "2 -1  1    25    26    24    25    29    27\n",
       "3  1  1    31    34    29    33    30    35"
      ]
     },
     "execution_count": 6,
     "metadata": {},
     "output_type": "execute_result"
    }
   ],
   "source": [
    "growth_df = pd.read_excel('lect09-2k-factorial.xlsx', sheet_name='Bacteria')\n",
    "growth_df"
   ]
  },
  {
   "cell_type": "code",
   "execution_count": 7,
   "id": "530f47af",
   "metadata": {},
   "outputs": [],
   "source": [
    "#growth_df.insert(8,\"Total\",[140,223,156,192],True)\n",
    "y_response = np.array([[21,22,23,28,20,26],\n",
    "             [37,39,38,38,35,36],\n",
    "             [25,26,24,25,29,27],\n",
    "             [31,34,29,33,30,35]])\n",
    "total_yres = np.c_[y_response.sum(axis=1)]"
   ]
  },
  {
   "cell_type": "code",
   "execution_count": 8,
   "id": "aacbe1eb",
   "metadata": {},
   "outputs": [],
   "source": [
    "growth_df.insert(2,\"AB\",growth_df['A']*growth_df['B'],True)"
   ]
  },
  {
   "cell_type": "code",
   "execution_count": 9,
   "id": "4cbd0be9",
   "metadata": {},
   "outputs": [
    {
     "name": "stdout",
     "output_type": "stream",
     "text": [
      "Contrast effects\n",
      "A     119\n",
      "B     -15\n",
      "AB    -47\n",
      "\n",
      "Effect estimates\n",
      "A     9.916667\n",
      "B    -1.250000\n",
      "AB   -3.916667\n",
      "\n",
      "SS effects\n",
      "A     590.041667\n",
      "B       9.375000\n",
      "AB     92.041667\n"
     ]
    }
   ],
   "source": [
    "k,n = np.log2(len(growth_df)), y_response.shape[1]\n",
    "\n",
    "contrast_eff = growth_df.iloc[:,:3].mul(total_yres).sum()\n",
    "print('Contrast effects\\n', contrast_eff.to_string(), sep='')\n",
    "\n",
    "effects = (contrast_eff)/((2**(k-1))*n)\n",
    "print('\\nEffect estimates\\n', effects.to_string(), sep='')\n",
    "\n",
    "ss_eff = (contrast_eff**2)/((2**k)*n)\n",
    "print('\\nSS effects\\n', ss_eff.to_string(), sep='')"
   ]
  },
  {
   "cell_type": "code",
   "execution_count": 12,
   "id": "1955cbec",
   "metadata": {},
   "outputs": [
    {
     "name": "stdout",
     "output_type": "stream",
     "text": [
      "SSE = 102.17, MSE = 5.11\n",
      "F-A 115.505709624796\n",
      "F-B 1.8352365415986935\n",
      "F-AB 18.017944535073397\n",
      "P-value A 9.290524855305233e-10\n",
      "P-value B 0.19061715658088677\n",
      "P-value AB 0.0003969387187647818\n"
     ]
    }
   ],
   "source": [
    "SST = (sum(sum(y_response**2)) - sum(total_yres)**2/y_response.size)[0]\n",
    "SSE = SST - sum(ss_eff)\n",
    "MSE = SSE/(y_response.size - len(ss_eff) - 1)\n",
    "n = 6\n",
    "df_error = (2**2) * (n-1)\n",
    "F_a = ss_eff[0] / (SSE/df_error)\n",
    "F_b = ss_eff[1] / (SSE/df_error)\n",
    "F_ab = ss_eff[2] / (SSE/df_error)\n",
    "print(\"SSE = {:.2f}, MSE = {:.2f}\".format(SSE, MSE))\n",
    "print(\"F-A\",F_a)\n",
    "print(\"F-B\",F_b)\n",
    "print(\"F-AB\",F_ab)\n",
    "p_value_a = stats.f.sf(F_a, 1, df_error)\n",
    "p_value_b = stats.f.sf(F_b, 1, df_error)\n",
    "p_value_ab = stats.f.sf(F_ab, 1, df_error)\n",
    "print(\"P-value A\",p_value_a)\n",
    "print(\"P-value B\",p_value_b)\n",
    "print(\"P-value AB\",p_value_ab)"
   ]
  },
  {
   "cell_type": "markdown",
   "id": "4963fccd",
   "metadata": {},
   "source": [
    "#### แปลผล : effect  A ร่วมกับ B มีผลให้ Response แตกต่างกันอย่างมีนัยสำคัญทางสถิติ"
   ]
  }
 ],
 "metadata": {
  "kernelspec": {
   "display_name": "Datasci",
   "language": "python",
   "name": "datasci"
  },
  "language_info": {
   "codemirror_mode": {
    "name": "ipython",
    "version": 3
   },
   "file_extension": ".py",
   "mimetype": "text/x-python",
   "name": "python",
   "nbconvert_exporter": "python",
   "pygments_lexer": "ipython3",
   "version": "3.8.8"
  }
 },
 "nbformat": 4,
 "nbformat_minor": 5
}
